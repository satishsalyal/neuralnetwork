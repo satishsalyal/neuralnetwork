{
  "nbformat": 4,
  "nbformat_minor": 0,
  "metadata": {
    "colab": {
      "name": "Develop Word Embeddings in Python with Gensim bold text.ipynb",
      "provenance": [],
      "collapsed_sections": [],
      "toc_visible": true,
      "authorship_tag": "ABX9TyPfe9U5/zfG2WHTk8DXNPTv",
      "include_colab_link": true
    },
    "kernelspec": {
      "name": "python3",
      "display_name": "Python 3"
    }
  },
  "cells": [
    {
      "cell_type": "markdown",
      "metadata": {
        "id": "view-in-github",
        "colab_type": "text"
      },
      "source": [
        "<a href=\"https://colab.research.google.com/github/satishsalyal/neuralnetwork/blob/master/Develop_Word_Embeddings_in_Python_with_Gensim_bold_text.ipynb\" target=\"_parent\"><img src=\"https://colab.research.google.com/assets/colab-badge.svg\" alt=\"Open In Colab\"/></a>"
      ]
    },
    {
      "cell_type": "markdown",
      "metadata": {
        "id": "6B7N5a3fMKov"
      },
      "source": [
        "How to Develop Word Embeddings in Python with **Gensim** **bold text**"
      ]
    },
    {
      "cell_type": "code",
      "metadata": {
        "id": "oik7SWErLwYV"
      },
      "source": [
        "\r\n",
        "from gensim.models import Word2Vec\r\n",
        "from sklearn.decomposition import PCA\r\n",
        "from matplotlib import pyplot\r\n"
      ],
      "execution_count": 18,
      "outputs": []
    },
    {
      "cell_type": "code",
      "metadata": {
        "id": "WNz8dFa9NduR"
      },
      "source": [
        "# define training data\r\n",
        "sentences = [['this', 'is', 'the', 'first', 'sentence', 'for', 'word2vec'],\r\n",
        "\t\t\t['this', 'is', 'the', 'second', 'sentence'],\r\n",
        "\t\t\t['yet', 'another', 'sentence'],\r\n",
        "\t\t\t['one', 'more', 'sentence'],\r\n",
        "\t\t\t['and', 'the', 'final', 'sentence']]"
      ],
      "execution_count": 4,
      "outputs": []
    },
    {
      "cell_type": "code",
      "metadata": {
        "id": "cI2eCl5IOEK2"
      },
      "source": [
        "# train model\r\n",
        "model = Word2Vec(sentences, min_count=1)"
      ],
      "execution_count": 6,
      "outputs": []
    },
    {
      "cell_type": "code",
      "metadata": {
        "colab": {
          "base_uri": "https://localhost:8080/"
        },
        "id": "80Kn9jEWOK9E",
        "outputId": "4bed303e-08ab-4347-c766-6ad16355334b"
      },
      "source": [
        "# summarize the loaded model\r\n",
        "print(model)"
      ],
      "execution_count": 16,
      "outputs": [
        {
          "output_type": "stream",
          "text": [
            "Word2Vec(vocab=14, size=100, alpha=0.025)\n"
          ],
          "name": "stdout"
        }
      ]
    },
    {
      "cell_type": "code",
      "metadata": {
        "id": "LSmBP-USTCc2"
      },
      "source": [
        ""
      ],
      "execution_count": null,
      "outputs": []
    },
    {
      "cell_type": "code",
      "metadata": {
        "colab": {
          "base_uri": "https://localhost:8080/"
        },
        "id": "Ei4gMUOPORuO",
        "outputId": "2af143b7-959e-429b-e700-ffc36538e146"
      },
      "source": [
        "# summarize vocabulary\r\n",
        "words = list(model.wv.vocab)\r\n",
        "print(words)"
      ],
      "execution_count": 9,
      "outputs": [
        {
          "output_type": "stream",
          "text": [
            "['this', 'is', 'the', 'first', 'sentence', 'for', 'word2vec', 'second', 'yet', 'another', 'one', 'more', 'and', 'final']\n"
          ],
          "name": "stdout"
        }
      ]
    },
    {
      "cell_type": "code",
      "metadata": {
        "colab": {
          "base_uri": "https://localhost:8080/"
        },
        "id": "gyLIskPmOXwW",
        "outputId": "d0f01c15-e6b0-43aa-8481-00f71c39c90f"
      },
      "source": [
        "# access vector for one word\r\n",
        "print(model['sentence'])"
      ],
      "execution_count": 10,
      "outputs": [
        {
          "output_type": "stream",
          "text": [
            "[-2.77261087e-03 -8.80646170e-04  3.23566399e-03  4.09557112e-03\n",
            " -1.50181074e-03 -3.34531243e-04  4.51609446e-03 -1.99009641e-03\n",
            " -8.57573468e-04 -1.15691382e-03 -4.81211767e-03 -4.95716790e-03\n",
            "  2.62038177e-03  3.16183968e-03  8.89223826e-04  2.92948354e-03\n",
            "  4.15375922e-03  4.65984270e-03 -3.95730510e-03  4.99153882e-03\n",
            " -2.12561758e-03  2.30716239e-03  9.80837387e-04  4.41142451e-03\n",
            " -4.15079482e-03 -3.09075508e-03  7.81109440e-04 -1.74779608e-03\n",
            " -2.37129454e-04  1.92865252e-03 -3.37284338e-03 -1.12045316e-04\n",
            " -3.18067585e-04  1.17093429e-03 -4.78066085e-03  1.70517201e-03\n",
            " -2.25036615e-03  2.67025083e-03 -3.91693972e-03  3.43058165e-03\n",
            " -2.31724884e-03  3.95888742e-03  3.88729456e-03 -6.16247824e-04\n",
            "  1.50094344e-03  4.38282499e-03  3.33565497e-03 -6.50099537e-04\n",
            " -3.13357217e-03 -2.00228160e-03 -3.61545268e-03 -1.93933153e-03\n",
            " -4.48856689e-03 -1.08648022e-03 -7.99352347e-05 -4.67240438e-03\n",
            "  2.93578138e-03 -2.84600793e-03 -3.49738123e-03  4.72585810e-03\n",
            "  1.03746809e-03 -3.17077944e-03 -1.98841747e-03  4.38461686e-03\n",
            " -4.79885750e-03  4.62286128e-03 -6.16236706e-04  3.47963156e-04\n",
            "  3.70158674e-03 -6.05184177e-04 -1.43366982e-03 -1.33885932e-03\n",
            "  4.13304567e-03 -7.30583211e-04  3.78998090e-03 -2.31029838e-03\n",
            " -3.84105719e-03  9.55720025e-04  2.51608295e-03  3.91567498e-03\n",
            " -7.27234758e-04 -2.21841736e-03  4.27126326e-03  2.20742379e-03\n",
            " -1.98037131e-03 -9.39981081e-04 -1.41332927e-03 -7.75982553e-05\n",
            "  4.67974273e-03 -4.73568129e-04 -2.71491893e-03 -1.61642418e-03\n",
            "  3.50280502e-03 -6.26448949e-04 -7.85893470e-04  4.56739869e-03\n",
            " -2.79841782e-03 -3.31884919e-04  1.31335179e-03  3.34356003e-03]\n"
          ],
          "name": "stdout"
        },
        {
          "output_type": "stream",
          "text": [
            "/usr/local/lib/python3.6/dist-packages/ipykernel_launcher.py:2: DeprecationWarning: Call to deprecated `__getitem__` (Method will be removed in 4.0.0, use self.wv.__getitem__() instead).\n",
            "  \n"
          ],
          "name": "stderr"
        }
      ]
    },
    {
      "cell_type": "code",
      "metadata": {
        "id": "bQN0R2bDOZ6_"
      },
      "source": [
        "# save model\r\n",
        "model.save('model.bin')"
      ],
      "execution_count": 14,
      "outputs": []
    },
    {
      "cell_type": "code",
      "metadata": {
        "colab": {
          "base_uri": "https://localhost:8080/"
        },
        "id": "IQKLIvnfOb_G",
        "outputId": "d77994c9-8763-4e91-ea83-2bf91aab93fa"
      },
      "source": [
        "# load model\r\n",
        "new_model = Word2Vec.load('model.bin')\r\n",
        "print(new_model)"
      ],
      "execution_count": 15,
      "outputs": [
        {
          "output_type": "stream",
          "text": [
            "Word2Vec(vocab=14, size=100, alpha=0.025)\n"
          ],
          "name": "stdout"
        }
      ]
    },
    {
      "cell_type": "code",
      "metadata": {
        "colab": {
          "base_uri": "https://localhost:8080/"
        },
        "id": "jqXuKAruTV4N",
        "outputId": "8344d586-8d69-4982-c571-2e6fb27f3297"
      },
      "source": [
        "# fit a 2d PCA model to the vectors\r\n",
        "X = model[model.wv.vocab]\r\n",
        "pca = PCA(n_components=2)\r\n",
        "result = pca.fit_transform(X)"
      ],
      "execution_count": 19,
      "outputs": [
        {
          "output_type": "stream",
          "text": [
            "/usr/local/lib/python3.6/dist-packages/ipykernel_launcher.py:2: DeprecationWarning: Call to deprecated `__getitem__` (Method will be removed in 4.0.0, use self.wv.__getitem__() instead).\n",
            "  \n"
          ],
          "name": "stderr"
        }
      ]
    },
    {
      "cell_type": "code",
      "metadata": {
        "colab": {
          "base_uri": "https://localhost:8080/",
          "height": 265
        },
        "id": "fqm46CaaT6kS",
        "outputId": "f371f509-bd21-4864-e79f-8bc3a21908da"
      },
      "source": [
        "# create a scatter plot of the projection\r\n",
        "pyplot.scatter(result[:, 0], result[:, 1])\r\n",
        "words = list(model.wv.vocab)\r\n",
        "for i, word in enumerate(words):\r\n",
        "\tpyplot.annotate(word, xy=(result[i, 0], result[i, 1]))\r\n",
        "pyplot.show()"
      ],
      "execution_count": 20,
      "outputs": [
        {
          "output_type": "display_data",
          "data": {
            "image/png": "[encoded data removed]",
            "text/plain": [
              "<Figure size 432x288 with 1 Axes>"
            ]
          },
          "metadata": {
            "tags": [],
            "needs_background": "light"
          }
        }
      ]
    }
  ]
}