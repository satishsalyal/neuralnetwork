{
  "nbformat": 4,
  "nbformat_minor": 0,
  "metadata": {
    "colab": {
      "name": "Python Tutorial.ipynb",
      "provenance": [],
      "authorship_tag": "ABX9TyMpLTZuES2hY8I/P4xON4F0",
      "include_colab_link": true
    },
    "kernelspec": {
      "name": "python3",
      "display_name": "Python 3"
    }
  },
  "cells": [
    {
      "cell_type": "markdown",
      "metadata": {
        "id": "view-in-github",
        "colab_type": "text"
      },
      "source": [
        "<a href=\"https://colab.research.google.com/github/satishsalyal/neuralnetwork/blob/master/Python_Tutorial.ipynb\" target=\"_parent\"><img src=\"https://colab.research.google.com/assets/colab-badge.svg\" alt=\"Open In Colab\"/></a>"
      ]
    },
    {
      "cell_type": "markdown",
      "metadata": {
        "id": "mJbdghTZa3er"
      },
      "source": [
        "**Python Variable**\r\n",
        "\r\n",
        "  Variables are used to store data, like string, numbers, date-time etc. \r\n",
        "\r\n",
        "   **Creating Variables**\r\n",
        "   Python variables are usually dynamically typed, that is, the type of the variable is interpreted during run-time and you don't need to specify the type of a variable.\r\n"
      ]
    },
    {
      "cell_type": "code",
      "metadata": {
        "colab": {
          "base_uri": "https://localhost:8080/"
        },
        "id": "ldKwv6kkcCW8",
        "outputId": "faa00392-2906-4673-fc6d-10e9a9ab88dd"
      },
      "source": [
        "#Example\r\n",
        "a = 10 # Integer value\r\n",
        "b = \"Hello World\" # String Value\r\n",
        "\r\n",
        "# Displaying variable value\r\n",
        "print(a)\r\n",
        "print(b)"
      ],
      "execution_count": 1,
      "outputs": [
        {
          "output_type": "stream",
          "text": [
            "10\n",
            "Hello World\n"
          ],
          "name": "stdout"
        }
      ]
    },
    {
      "cell_type": "markdown",
      "metadata": {
        "id": "m09k9oSNdlht"
      },
      "source": [
        "**Get and Check Variable Type**\r\n",
        "\r\n",
        "The type() method is used to get the type of a created variable.\r\n",
        "Example"
      ]
    },
    {
      "cell_type": "code",
      "metadata": {
        "id": "keL_uXu1eE6l"
      },
      "source": [
        ""
      ],
      "execution_count": null,
      "outputs": []
    }
  ]
}